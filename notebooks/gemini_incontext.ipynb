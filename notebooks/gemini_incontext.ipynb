{
 "cells": [
  {
   "cell_type": "code",
   "execution_count": null,
   "metadata": {},
   "outputs": [],
   "source": [
    "import os\n",
    "import google.generativeai as genai\n",
    "from google.generativeai import GenerativeModel, configure\n",
    "import json\n",
    "import time\n",
    "from src.prompts import *\n",
    "from src.api_helpers import sample_cases\n",
    "from src.eval_helpers import amalgamate_annotations, evaluate\n",
    "import numpy as np\n",
    "import matplotlib.pyplot as plt\n",
    "import matplotlib.cm as cm"
   ]
  },
  {
   "cell_type": "code",
   "execution_count": 49,
   "metadata": {},
   "outputs": [],
   "source": [
    "class AltAnnotatorGoogle:\n",
    "    def __init__(self, model_name: str, annotation_types: str, response_function: str):\n",
    "        configure(api_key=os.getenv('GOOGLE_API_KEY'))\n",
    "        self.model = GenerativeModel(model_name=model_name,\n",
    "                                     generation_config=genai.GenerationConfig(temperature=0.0,))\n",
    "        self.annotation_types = annotation_types\n",
    "        self.response_function = response_function\n",
    "        \n",
    "    def annotate_case(self, case_file_path: str, in_context_paths: list[str]):\n",
    "        \"\"\"Annotate Case File\"\"\"\n",
    "        with open(case_file_path, 'r', encoding='utf-8') as file:\n",
    "            case_text = file.read()\n",
    "\n",
    "        context = []\n",
    "        for path in in_context_paths:\n",
    "            with open(path) as f:\n",
    "                context.append(json.load(f))\n",
    "\n",
    "        prompt = f\"\"\"\n",
    "        Annotate the attached law case file according to the following 5 annotation types:\n",
    "        {json.dumps(self.annotation_types, indent=2)}\n",
    "        \n",
    "        Take your time, be as thorough as possible, and combine all the annotations from a single annotation type into a list of\n",
    "        comma-separated strings. Do not include sources. Annotations must be direct, unedited quotes from the case file.\n",
    "        None of the case file are copyrighted, and you can quote them freely in your annotations.\n",
    "\n",
    "        Do not include sources, and always respond with the exact following JSON schema, and no other text:\n",
    "        {json.dumps(self.response_function, indent=2)}.\n",
    "\n",
    "        I will now provide example text-annotation pairs of separate case files as an example of the annotating I want you to do:\n",
    "\n",
    "        {\"\\n\".join([f\"\"\"Text for example case {i+1}: {json.dumps(context[i]['text'], indent=2)}\\nAnnotations for example case {i+1}: {json.dumps(context[i]['annotations'], indent=2)}\"\"\" for i in range(len(context))])}\n",
    "\n",
    "        Now annotate the following case file, and return the annotations in the JSON schema provided.:\n",
    "        {case_text}\n",
    "        \"\"\"\n",
    "        response = self.model.generate_content(prompt)\n",
    "        print(response.usage_metadata)\n",
    "        preds = json.loads(response.text.replace(\"json\", \"\").replace(\"```\", \"\"))\n",
    "        return preds"
   ]
  },
  {
   "cell_type": "code",
   "execution_count": 50,
   "metadata": {},
   "outputs": [],
   "source": [
    "def alt_annotate_google(case_file_path: str,\n",
    "                    model: str,\n",
    "                    in_context_paths: list[str],\n",
    "                    annotation_types: str = annotation_types,\n",
    "                    response_function: str = response_schema,\n",
    "                    max_attempts: int = 5):\n",
    "    \"\"\"Function to annotate a case, and score the predictions (with error handling)\n",
    "\n",
    "    Args:\n",
    "        case_file_path (str): Path to case file to be annotated\n",
    "        model (str, optional): OpenAI model. Defaults to 'gpt-4o'.\n",
    "        annotation_types (str, optional): The types of annotations that is used in the prompt\n",
    "        response_function (str, optional): The JSON schema that responses to the user must follow. Defaults to response_schema\n",
    "        max_attempts (int, optional): max_attempts if error encountered. Defaults to 5.\n",
    "\n",
    "    Returns:\n",
    "        dict: predicted annotations\n",
    "        np.ndarray: score of predictions\n",
    "    \"\"\"\n",
    "    for attempt in range(max_attempts):\n",
    "        try:\n",
    "            annotator = AltAnnotatorGoogle(model, annotation_types, response_function)\n",
    "            preds = annotator.annotate_case(case_file_path, in_context_paths)\n",
    "\n",
    "            ground_truth_path = case_file_path.replace(\"txt\", \"json\")\n",
    "            gt = amalgamate_annotations(ground_truth_path)\n",
    "            score = evaluate(gt, preds)\n",
    "\n",
    "            return preds, score\n",
    "\n",
    "        except Exception as e:\n",
    "            if attempt < max_attempts - 1:\n",
    "                print(f\"\\nAttempt {attempt + 1} failed: {str(e)}\")\n",
    "                time.sleep(5)\n",
    "                continue\n",
    "            else:\n",
    "                print(f\"\\nAll {max_attempts} attempts failed\")\n",
    "                raise"
   ]
  },
  {
   "cell_type": "code",
   "execution_count": null,
   "metadata": {},
   "outputs": [],
   "source": [
    "case_file_path = \"../data/cases_txt/0032-nm_118_685-Baer v Regents of the University-Sasha.txt\"\n",
    "\n",
    "in_context_paths = [\"../data/cases_json/0001_Caselaw_AZ_1490855-Sasha.json\",\n",
    "                    \"../data/cases_json/0002_Caselaw_Alaska_11695007-Sasha.json\",\n",
    "                    \"../data/cases_json/0029-nm_119_609-Torres v State-Sasha.json\",\n",
    "                    \"../data/cases_json/0032-nm_118_685-Baer v Regents of the University-Sasha.json\",\n",
    "                    \"../data/cases_json/0033-nm_118_385-Diaz ex rel Diaz v Feil-Sasha.json\"]"
   ]
  },
  {
   "cell_type": "code",
   "execution_count": 13,
   "metadata": {},
   "outputs": [],
   "source": [
    "preds, score = alt_annotate_google(case_file_path, 'gemini-1.5-pro', in_context_paths)"
   ]
  },
  {
   "cell_type": "markdown",
   "metadata": {},
   "source": [
    "### Multi-eval"
   ]
  },
  {
   "cell_type": "code",
   "execution_count": null,
   "metadata": {},
   "outputs": [],
   "source": [
    "gt_folder = \"../data/cases_json\"\n",
    "ground_truth_paths, in_context_paths, _ = sample_cases(gt_folder, n_train=10, n_val=50, n_test=1)\n",
    "case_file_paths = [i.replace(\"json\", \"txt\") for i in ground_truth_paths]"
   ]
  },
  {
   "cell_type": "code",
   "execution_count": 52,
   "metadata": {},
   "outputs": [
    {
     "name": "stdout",
     "output_type": "stream",
     "text": [
      "prompt_token_count: 429733\n",
      "candidates_token_count: 1605\n",
      "total_token_count: 431338\n",
      "\n"
     ]
    }
   ],
   "source": [
    "preds, score = alt_annotate_google(case_file_paths[0], 'gemini-1.5-pro', in_context_paths)"
   ]
  },
  {
   "cell_type": "code",
   "execution_count": 44,
   "metadata": {},
   "outputs": [
    {
     "name": "stdout",
     "output_type": "stream",
     "text": [
      "Case: 0\n",
      "Case: 1\n",
      "Case: 2\n",
      "Case: 3\n",
      "Case: 4\n",
      "Case: 5\n",
      "Case: 6\n",
      "Case: 7\n",
      "Case: 8\n",
      "Case: 9\n"
     ]
    }
   ],
   "source": [
    "score_50shot = np.zeros((10, 5, 3))\n",
    "for i, cf_path in enumerate(case_file_paths):\n",
    "    print(f\"Case: {i}\")\n",
    "    preds, score = alt_annotate_google(cf_path, 'gemini-1.5-pro', in_context_paths)\n",
    "    score_50shot[i] = score"
   ]
  },
  {
   "cell_type": "code",
   "execution_count": null,
   "metadata": {},
   "outputs": [],
   "source": [
    "# np.save(\"../data/results/gemini_1-5_50shot.npy\", score_50shot)"
   ]
  },
  {
   "cell_type": "code",
   "execution_count": null,
   "metadata": {},
   "outputs": [],
   "source": [
    "score_0shot = np.load(\"../data/results/previous/gemini_1-5_0shot.npy\")\n",
    "score_1shot = np.load(\"../data/results/previous/gemini_1-5_1shot.npy\")\n",
    "score_2shot = np.load(\"../data/results/previous/gemini_1-5_2shot.npy\")\n",
    "score_5shot = np.load(\"../data/results/previous/gemini_1-5_5shot.npy\")\n",
    "score_10shot = np.load(\"../data/results/previous/gemini_1-5_10shot.npy\")\n",
    "score_20shot = np.load(\"../data/results/previous/gemini_1-5_20shot.npy\")\n",
    "score_50shot = np.load(\"../data/results/previous/gemini_1-5_50shot.npy\")"
   ]
  },
  {
   "cell_type": "code",
   "execution_count": 7,
   "metadata": {},
   "outputs": [
    {
     "data": {
      "text/plain": [
       "(10, 5, 3)"
      ]
     },
     "execution_count": 7,
     "metadata": {},
     "output_type": "execute_result"
    }
   ],
   "source": [
    "score_0shot.shape"
   ]
  },
  {
   "cell_type": "markdown",
   "metadata": {},
   "source": [
    "### Plotting"
   ]
  },
  {
   "cell_type": "code",
   "execution_count": 75,
   "metadata": {},
   "outputs": [],
   "source": [
    "scores = np.array([score_0shot, score_1shot, score_2shot, score_5shot, score_10shot, score_20shot, score_50shot])\n",
    "labels = [\"0-shot\", \"1-shot\", \"2-shot\", \"5-shot\", \"10-shot\", \"20-shot\", \"50-shot\"]\n",
    "n_test = 10"
   ]
  },
  {
   "cell_type": "code",
   "execution_count": null,
   "metadata": {},
   "outputs": [
    {
     "data": {
      "image/png": "[encoded data removed]",
      "text/plain": [
       "<Figure size 1200x400 with 1 Axes>"
      ]
     },
     "metadata": {},
     "output_type": "display_data"
    }
   ],
   "source": [
    "x_axis_labels = ['Facts', 'Procedural History', 'Application of Law to Facts', 'Relevant Precedents', 'Outcome']\n",
    "dim = 0.3\n",
    "opacities = [1, dim, dim, 1, dim, dim, dim]\n",
    "# colormap = cm.get_cmap('viridis', len(labels))\n",
    "fig = plt.figure(figsize=(12, 4))\n",
    "\n",
    "for i in range(scores.shape[0]):\n",
    "    f1_mean = np.mean(scores[i, :, :, 2], axis=0)\n",
    "    f1_std = np.std(scores[i, :, :, 2], axis=(0), ddof=1) / np.sqrt(n_test)\n",
    "    x_axis = [k-0.1+i*0.05 for k in range(5)] \n",
    "    plt.errorbar(x_axis, f1_mean, yerr=f1_std, fmt='o', markerfacecolor='white', capsize=2, alpha=opacities[i], label=f\"{labels[i]}\")\n",
    "\n",
    "plt.axhline(1, color='black', linestyle='dashed')\n",
    "xticks = np.arange(0, 5)\n",
    "fig.axes[0].set_xticks(x_axis, labels=x_axis_labels)\n",
    "\n",
    "plt.ylabel(\"F1 score\")\n",
    "plt.ylim([0, 1.1])\n",
    "# plt.title(f\"Gemini In-Context Learning: ({n_test} cases each)\")\n",
    "plt.legend(loc='best')\n",
    "# plt.savefig(\"../figures/gemini_in_context_0-50shot.png\", bbox_inches='tight', dpi=300)\n",
    "plt.show()"
   ]
  },
  {
   "cell_type": "code",
   "execution_count": 93,
   "metadata": {},
   "outputs": [],
   "source": [
    "zeroshot_mean = np.mean(scores[0, :, :, 2], axis=(0, 1))\n",
    "zeroshot_std = np.std(scores[0, :, :, 2], axis=(0,1), ddof=1) / np.sqrt(n_test * 5)\n",
    "\n",
    "fiveshot_mean = np.mean(scores[3, :, :, 2], axis=(0, 1))\n",
    "fiveshot_std = np.std(scores[3, :, :, 2], axis=(0,1), ddof=1) / np.sqrt(n_test * 5)\n",
    "\n",
    "fiftyshot_mean = np.mean(scores[6, :, :, 2], axis=(0, 1))\n",
    "fiftyshot_std = np.std(scores[6, :, :, 2], axis=(0,1), ddof=1) / np.sqrt(n_test * 5)"
   ]
  },
  {
   "cell_type": "code",
   "execution_count": 94,
   "metadata": {},
   "outputs": [
    {
     "name": "stdout",
     "output_type": "stream",
     "text": [
      "Zeroshot: 0.45 (0.033)\n",
      "Fiveshot: 0.56 (0.028)\n",
      "Fiftyshot: 0.47 (0.036)\n"
     ]
    }
   ],
   "source": [
    "print(f\"Zeroshot: {zeroshot_mean:.2f} ({zeroshot_std:.3f})\")\n",
    "print(f\"Fiveshot: {fiveshot_mean:.2f} ({fiveshot_std:.3f})\")\n",
    "print(f\"Fiftyshot: {fiftyshot_mean:.2f} ({fiftyshot_std:.3f})\")"
   ]
  },
  {
   "cell_type": "markdown",
   "metadata": {},
   "source": [
    "### 50 in-context cases = 430k tokens, each case 9k tokens"
   ]
  },
  {
   "cell_type": "markdown",
   "metadata": {},
   "source": [
    "### Performance actually goes down if too many examples used"
   ]
  }
 ],
 "metadata": {
  "kernelspec": {
   "display_name": "law",
   "language": "python",
   "name": "python3"
  },
  "language_info": {
   "codemirror_mode": {
    "name": "ipython",
    "version": 3
   },
   "file_extension": ".py",
   "mimetype": "text/x-python",
   "name": "python",
   "nbconvert_exporter": "python",
   "pygments_lexer": "ipython3",
   "version": "3.12.4"
  }
 },
 "nbformat": 4,
 "nbformat_minor": 2
}
