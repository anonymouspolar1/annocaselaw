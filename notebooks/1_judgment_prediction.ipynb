{
 "cells": [
  {
   "cell_type": "code",
   "execution_count": 1,
   "metadata": {},
   "outputs": [],
   "source": [
    "import numpy as np\n",
    "import pandas as pd\n",
    "import json\n",
    "from tqdm.notebook import tqdm\n",
    "import matplotlib.pyplot as plt\n",
    "\n",
    "from sklearn.metrics import f1_score\n",
    "from sklearn.utils import resample\n",
    "\n",
    "\n",
    "from src.api_helpers import JudgmentPredictionAPI\n",
    "from src.eval_helpers import compute_ci"
   ]
  },
  {
   "cell_type": "code",
   "execution_count": null,
   "metadata": {},
   "outputs": [],
   "source": [
    "root = \"../data/cases_json/\""
   ]
  },
  {
   "cell_type": "markdown",
   "metadata": {},
   "source": [
    "### Load Case Paths"
   ]
  },
  {
   "cell_type": "code",
   "execution_count": 3,
   "metadata": {},
   "outputs": [
    {
     "data": {
      "text/html": [
       "<div>\n",
       "<style scoped>\n",
       "    .dataframe tbody tr th:only-of-type {\n",
       "        vertical-align: middle;\n",
       "    }\n",
       "\n",
       "    .dataframe tbody tr th {\n",
       "        vertical-align: top;\n",
       "    }\n",
       "\n",
       "    .dataframe thead th {\n",
       "        text-align: right;\n",
       "    }\n",
       "</style>\n",
       "<table border=\"1\" class=\"dataframe\">\n",
       "  <thead>\n",
       "    <tr style=\"text-align: right;\">\n",
       "      <th></th>\n",
       "      <th>case_id</th>\n",
       "      <th>file_name</th>\n",
       "      <th>outcome</th>\n",
       "    </tr>\n",
       "  </thead>\n",
       "  <tbody>\n",
       "    <tr>\n",
       "      <th>0</th>\n",
       "      <td>0001</td>\n",
       "      <td>0001_Caselaw_AZ_1490855-Sasha.json</td>\n",
       "      <td>reverse</td>\n",
       "    </tr>\n",
       "    <tr>\n",
       "      <th>1</th>\n",
       "      <td>0002</td>\n",
       "      <td>0002_Caselaw_Alaska_11695007-Sasha.json</td>\n",
       "      <td>affirm</td>\n",
       "    </tr>\n",
       "    <tr>\n",
       "      <th>2</th>\n",
       "      <td>0029</td>\n",
       "      <td>0029-nm_119_609-Torres v State-Sasha.json</td>\n",
       "      <td>reverse</td>\n",
       "    </tr>\n",
       "    <tr>\n",
       "      <th>3</th>\n",
       "      <td>0032</td>\n",
       "      <td>0032-nm_118_685-Baer v Regents of the Universi...</td>\n",
       "      <td>mixed</td>\n",
       "    </tr>\n",
       "    <tr>\n",
       "      <th>4</th>\n",
       "      <td>0033</td>\n",
       "      <td>0033-nm_118_385-Diaz ex rel Diaz v Feil-Sasha....</td>\n",
       "      <td>mixed</td>\n",
       "    </tr>\n",
       "  </tbody>\n",
       "</table>\n",
       "</div>"
      ],
      "text/plain": [
       "  case_id                                          file_name  outcome\n",
       "0    0001                 0001_Caselaw_AZ_1490855-Sasha.json  reverse\n",
       "1    0002            0002_Caselaw_Alaska_11695007-Sasha.json   affirm\n",
       "2    0029          0029-nm_119_609-Torres v State-Sasha.json  reverse\n",
       "3    0032  0032-nm_118_685-Baer v Regents of the Universi...    mixed\n",
       "4    0033  0033-nm_118_385-Diaz ex rel Diaz v Feil-Sasha....    mixed"
      ]
     },
     "execution_count": 3,
     "metadata": {},
     "output_type": "execute_result"
    }
   ],
   "source": [
    "metadata_df = pd.read_csv(\"../data/csvs/metadata.csv\", dtype={'case_id': str})\n",
    "metadata_df.head()"
   ]
  },
  {
   "cell_type": "code",
   "execution_count": 4,
   "metadata": {},
   "outputs": [
    {
     "data": {
      "text/plain": [
       "471"
      ]
     },
     "execution_count": 4,
     "metadata": {},
     "output_type": "execute_result"
    }
   ],
   "source": [
    "n_cases = metadata_df.shape[0]\n",
    "n_cases"
   ]
  },
  {
   "cell_type": "markdown",
   "metadata": {},
   "source": [
    "### Identify cases with missing annotations"
   ]
  },
  {
   "cell_type": "code",
   "execution_count": 5,
   "metadata": {},
   "outputs": [
    {
     "data": {
      "application/vnd.jupyter.widget-view+json": {
       "model_id": "9dd4fbdddb464083ad79d4246abcfe6c",
       "version_major": 2,
       "version_minor": 0
      },
      "text/plain": [
       "  0%|          | 0/471 [00:00<?, ?it/s]"
      ]
     },
     "metadata": {},
     "output_type": "display_data"
    }
   ],
   "source": [
    "missing_annotation_ids = set()\n",
    "for i in tqdm(range(n_cases)):\n",
    "    case_id = metadata_df['case_id'][i]\n",
    "    file_name = metadata_df['file_name'][i]\n",
    "    file_path = root + file_name\n",
    "    with open(file_path, encoding='utf-8') as f:\n",
    "        case_file = json.load(f)\n",
    "    \n",
    "    annotations = case_file['annotations']\n",
    "    if not annotations['Facts'] or not annotations['Procedural History'] or not annotations['Relevant Precedents'] or not annotations['Application of Law to Facts']:\n",
    "        missing_annotation_ids.add(case_id)"
   ]
  },
  {
   "cell_type": "code",
   "execution_count": 6,
   "metadata": {},
   "outputs": [
    {
     "data": {
      "text/plain": [
       "77"
      ]
     },
     "execution_count": 6,
     "metadata": {},
     "output_type": "execute_result"
    }
   ],
   "source": [
    "len(missing_annotation_ids)"
   ]
  },
  {
   "cell_type": "code",
   "execution_count": 7,
   "metadata": {},
   "outputs": [
    {
     "data": {
      "text/plain": [
       "(394, 3)"
      ]
     },
     "execution_count": 7,
     "metadata": {},
     "output_type": "execute_result"
    }
   ],
   "source": [
    "clean_df = metadata_df[~metadata_df['case_id'].isin(missing_annotation_ids)].reset_index(drop=True)\n",
    "clean_df.shape"
   ]
  },
  {
   "cell_type": "code",
   "execution_count": 8,
   "metadata": {},
   "outputs": [],
   "source": [
    "n_clean_cases = clean_df.shape[0]"
   ]
  },
  {
   "cell_type": "code",
   "execution_count": 9,
   "metadata": {},
   "outputs": [],
   "source": [
    "# clean_df.to_csv(\"../data/csvs/clean_df.csv\", index=False)"
   ]
  },
  {
   "cell_type": "markdown",
   "metadata": {},
   "source": [
    "### Test API\n",
    "\n",
    "Models to try:\n",
    "- `gpt-4o`\n",
    "- `o3-mini`\n",
    "- `Gemini-1.5-Pro`"
   ]
  },
  {
   "cell_type": "code",
   "execution_count": 10,
   "metadata": {},
   "outputs": [],
   "source": [
    "index = 0\n",
    "test_case = root + clean_df['file_name'][index]"
   ]
  },
  {
   "cell_type": "code",
   "execution_count": 11,
   "metadata": {},
   "outputs": [],
   "source": [
    "predictor = JudgmentPredictionAPI()"
   ]
  },
  {
   "cell_type": "code",
   "execution_count": 12,
   "metadata": {},
   "outputs": [
    {
     "data": {
      "text/plain": [
       "'reverse'"
      ]
     },
     "execution_count": 12,
     "metadata": {},
     "output_type": "execute_result"
    }
   ],
   "source": [
    "outcome_gpt4o = predictor.get_outcome(test_case, subtask='c', model='gpt-4o-2024-11-20')\n",
    "outcome_gpt4o"
   ]
  },
  {
   "cell_type": "code",
   "execution_count": 13,
   "metadata": {},
   "outputs": [
    {
     "data": {
      "text/plain": [
       "'reverse'"
      ]
     },
     "execution_count": 13,
     "metadata": {},
     "output_type": "execute_result"
    }
   ],
   "source": [
    "outcome_o3mini= predictor.get_outcome(test_case, 'c', 'o3-mini-2025-01-31')\n",
    "outcome_o3mini"
   ]
  },
  {
   "cell_type": "code",
   "execution_count": 14,
   "metadata": {},
   "outputs": [
    {
     "data": {
      "text/plain": [
       "'reverse'"
      ]
     },
     "execution_count": 14,
     "metadata": {},
     "output_type": "execute_result"
    }
   ],
   "source": [
    "outcome_gemini = predictor.get_outcome(test_case, 'c', 'gemini-1.5-pro')\n",
    "outcome_gemini"
   ]
  },
  {
   "cell_type": "markdown",
   "metadata": {},
   "source": [
    "# Run for all cases"
   ]
  },
  {
   "cell_type": "code",
   "execution_count": 13,
   "metadata": {},
   "outputs": [],
   "source": [
    "def run_task_1(model: str):\n",
    "    results = np.zeros((n_clean_cases, 3), dtype='object')\n",
    "\n",
    "    for i in tqdm(range(n_clean_cases)):\n",
    "        case_file_path = root + clean_df['file_name'][i]\n",
    "\n",
    "        results[i] = [\n",
    "            predictor.get_outcome(case_file_path, 'a', model),\n",
    "            predictor.get_outcome(case_file_path, 'b', model),\n",
    "            predictor.get_outcome(case_file_path, 'c', model),\n",
    "            ]\n",
    "        \n",
    "        print(f\"Case {i+1}: {results[i]} | {file_name}\")\n",
    "    \n",
    "    return results"
   ]
  },
  {
   "cell_type": "code",
   "execution_count": null,
   "metadata": {},
   "outputs": [],
   "source": [
    "results_gpt4o = run_task_1('gpt-4o-2024-11-20')\n",
    "task_1_df_gpt4o = pd.DataFrame(results_gpt4o, columns=['outcome_1a_gpt4o', 'outcome_1b_gpt4o', 'outcome_1c_gpt4o'], index=clean_df['case_id']).reset_index()"
   ]
  },
  {
   "cell_type": "code",
   "execution_count": null,
   "metadata": {},
   "outputs": [],
   "source": [
    "# task_1_df_gpt4o.to_csv(\"../data/results/task_1/gpt4o.csv\", index=False)"
   ]
  },
  {
   "cell_type": "code",
   "execution_count": null,
   "metadata": {},
   "outputs": [],
   "source": [
    "results_o3mini = run_task_1('o3-mini-2025-01-31')\n",
    "task_1_df_o3mini = pd.DataFrame(results_o3mini, columns=['outcome_1a_o3mini', 'outcome_1b_o3mini', 'outcome_1c_o3mini'], index=clean_df['case_id']).reset_index()"
   ]
  },
  {
   "cell_type": "code",
   "execution_count": null,
   "metadata": {},
   "outputs": [],
   "source": [
    "# task_1_df_o3mini.to_csv(\"../data/results/task_1/o3mini.csv\", index=False)"
   ]
  },
  {
   "cell_type": "code",
   "execution_count": null,
   "metadata": {},
   "outputs": [],
   "source": [
    "results_gemini = run_task_1('gemini-1.5-pro')\n",
    "task_1_df_gemini = pd.DataFrame(results_gemini, columns=['outcome_1a_gemini', 'outcome_1b_gemini', 'outcome_1c_gemini'], index=clean_df['case_id']).reset_index()"
   ]
  },
  {
   "cell_type": "code",
   "execution_count": null,
   "metadata": {},
   "outputs": [],
   "source": [
    "# task_1_df_gemini.to_csv(\"../data/results/task_1/gemini_1_5_pro.csv\", index=False)"
   ]
  },
  {
   "cell_type": "markdown",
   "metadata": {},
   "source": [
    "# Evaluation"
   ]
  },
  {
   "cell_type": "code",
   "execution_count": 14,
   "metadata": {},
   "outputs": [],
   "source": [
    "task_1_df_gpt4o = pd.read_csv(\"../data/results/task_1/gpt4o.csv\", dtype={'case_id': str})\n",
    "task_1_df_o3mini = pd.read_csv(\"../data/results/task_1/o3mini.csv\", dtype={'case_id': str})\n",
    "task_1_df_gemini = pd.read_csv(\"../data/results/task_1/gemini_1_5_pro.csv\", dtype={'case_id': str})"
   ]
  },
  {
   "cell_type": "code",
   "execution_count": 15,
   "metadata": {},
   "outputs": [
    {
     "data": {
      "text/html": [
       "<div>\n",
       "<style scoped>\n",
       "    .dataframe tbody tr th:only-of-type {\n",
       "        vertical-align: middle;\n",
       "    }\n",
       "\n",
       "    .dataframe tbody tr th {\n",
       "        vertical-align: top;\n",
       "    }\n",
       "\n",
       "    .dataframe thead th {\n",
       "        text-align: right;\n",
       "    }\n",
       "</style>\n",
       "<table border=\"1\" class=\"dataframe\">\n",
       "  <thead>\n",
       "    <tr style=\"text-align: right;\">\n",
       "      <th></th>\n",
       "      <th>case_id</th>\n",
       "      <th>file_name</th>\n",
       "      <th>outcome</th>\n",
       "    </tr>\n",
       "  </thead>\n",
       "  <tbody>\n",
       "    <tr>\n",
       "      <th>0</th>\n",
       "      <td>0001</td>\n",
       "      <td>0001_Caselaw_AZ_1490855-Sasha.json</td>\n",
       "      <td>reverse</td>\n",
       "    </tr>\n",
       "    <tr>\n",
       "      <th>1</th>\n",
       "      <td>0002</td>\n",
       "      <td>0002_Caselaw_Alaska_11695007-Sasha.json</td>\n",
       "      <td>affirm</td>\n",
       "    </tr>\n",
       "    <tr>\n",
       "      <th>2</th>\n",
       "      <td>0029</td>\n",
       "      <td>0029-nm_119_609-Torres v State-Sasha.json</td>\n",
       "      <td>reverse</td>\n",
       "    </tr>\n",
       "    <tr>\n",
       "      <th>3</th>\n",
       "      <td>0032</td>\n",
       "      <td>0032-nm_118_685-Baer v Regents of the Universi...</td>\n",
       "      <td>mixed</td>\n",
       "    </tr>\n",
       "    <tr>\n",
       "      <th>4</th>\n",
       "      <td>0033</td>\n",
       "      <td>0033-nm_118_385-Diaz ex rel Diaz v Feil-Sasha....</td>\n",
       "      <td>mixed</td>\n",
       "    </tr>\n",
       "  </tbody>\n",
       "</table>\n",
       "</div>"
      ],
      "text/plain": [
       "  case_id                                          file_name  outcome\n",
       "0    0001                 0001_Caselaw_AZ_1490855-Sasha.json  reverse\n",
       "1    0002            0002_Caselaw_Alaska_11695007-Sasha.json   affirm\n",
       "2    0029          0029-nm_119_609-Torres v State-Sasha.json  reverse\n",
       "3    0032  0032-nm_118_685-Baer v Regents of the Universi...    mixed\n",
       "4    0033  0033-nm_118_385-Diaz ex rel Diaz v Feil-Sasha....    mixed"
      ]
     },
     "execution_count": 15,
     "metadata": {},
     "output_type": "execute_result"
    }
   ],
   "source": [
    "metadata_df = pd.read_csv(\"../data/csvs/metadata.csv\", dtype={'case_id': str})\n",
    "metadata_df.head()"
   ]
  },
  {
   "cell_type": "code",
   "execution_count": 16,
   "metadata": {},
   "outputs": [
    {
     "name": "stdout",
     "output_type": "stream",
     "text": [
      "(394, 12)\n"
     ]
    },
    {
     "data": {
      "text/html": [
       "<div>\n",
       "<style scoped>\n",
       "    .dataframe tbody tr th:only-of-type {\n",
       "        vertical-align: middle;\n",
       "    }\n",
       "\n",
       "    .dataframe tbody tr th {\n",
       "        vertical-align: top;\n",
       "    }\n",
       "\n",
       "    .dataframe thead th {\n",
       "        text-align: right;\n",
       "    }\n",
       "</style>\n",
       "<table border=\"1\" class=\"dataframe\">\n",
       "  <thead>\n",
       "    <tr style=\"text-align: right;\">\n",
       "      <th></th>\n",
       "      <th>case_id</th>\n",
       "      <th>file_name</th>\n",
       "      <th>outcome</th>\n",
       "      <th>outcome_1a_gpt4o</th>\n",
       "      <th>outcome_1b_gpt4o</th>\n",
       "      <th>outcome_1c_gpt4o</th>\n",
       "      <th>outcome_1a_o3mini</th>\n",
       "      <th>outcome_1b_o3mini</th>\n",
       "      <th>outcome_1c_o3mini</th>\n",
       "      <th>outcome_1a_gemini</th>\n",
       "      <th>outcome_1b_gemini</th>\n",
       "      <th>outcome_1c_gemini</th>\n",
       "    </tr>\n",
       "  </thead>\n",
       "  <tbody>\n",
       "    <tr>\n",
       "      <th>0</th>\n",
       "      <td>0001</td>\n",
       "      <td>0001_Caselaw_AZ_1490855-Sasha.json</td>\n",
       "      <td>reverse</td>\n",
       "      <td>affirm</td>\n",
       "      <td>affirm</td>\n",
       "      <td>reverse</td>\n",
       "      <td>affirm</td>\n",
       "      <td>affirm</td>\n",
       "      <td>reverse</td>\n",
       "      <td>reverse</td>\n",
       "      <td>reverse</td>\n",
       "      <td>reverse</td>\n",
       "    </tr>\n",
       "    <tr>\n",
       "      <th>1</th>\n",
       "      <td>0002</td>\n",
       "      <td>0002_Caselaw_Alaska_11695007-Sasha.json</td>\n",
       "      <td>affirm</td>\n",
       "      <td>affirm</td>\n",
       "      <td>affirm</td>\n",
       "      <td>affirm</td>\n",
       "      <td>affirm</td>\n",
       "      <td>affirm</td>\n",
       "      <td>affirm</td>\n",
       "      <td>mixed</td>\n",
       "      <td>mixed</td>\n",
       "      <td>affirm</td>\n",
       "    </tr>\n",
       "    <tr>\n",
       "      <th>2</th>\n",
       "      <td>0029</td>\n",
       "      <td>0029-nm_119_609-Torres v State-Sasha.json</td>\n",
       "      <td>reverse</td>\n",
       "      <td>affirm</td>\n",
       "      <td>affirm</td>\n",
       "      <td>mixed</td>\n",
       "      <td>affirm</td>\n",
       "      <td>affirm</td>\n",
       "      <td>reverse</td>\n",
       "      <td>reverse</td>\n",
       "      <td>reverse</td>\n",
       "      <td>reverse</td>\n",
       "    </tr>\n",
       "    <tr>\n",
       "      <th>3</th>\n",
       "      <td>0032</td>\n",
       "      <td>0032-nm_118_685-Baer v Regents of the Universi...</td>\n",
       "      <td>mixed</td>\n",
       "      <td>mixed</td>\n",
       "      <td>mixed</td>\n",
       "      <td>mixed</td>\n",
       "      <td>mixed</td>\n",
       "      <td>reverse</td>\n",
       "      <td>reverse</td>\n",
       "      <td>mixed</td>\n",
       "      <td>mixed</td>\n",
       "      <td>reverse</td>\n",
       "    </tr>\n",
       "    <tr>\n",
       "      <th>4</th>\n",
       "      <td>0033</td>\n",
       "      <td>0033-nm_118_385-Diaz ex rel Diaz v Feil-Sasha....</td>\n",
       "      <td>mixed</td>\n",
       "      <td>affirm</td>\n",
       "      <td>affirm</td>\n",
       "      <td>mixed</td>\n",
       "      <td>affirm</td>\n",
       "      <td>reverse</td>\n",
       "      <td>reverse</td>\n",
       "      <td>reverse</td>\n",
       "      <td>reverse</td>\n",
       "      <td>mixed</td>\n",
       "    </tr>\n",
       "  </tbody>\n",
       "</table>\n",
       "</div>"
      ],
      "text/plain": [
       "  case_id                                          file_name  outcome  \\\n",
       "0    0001                 0001_Caselaw_AZ_1490855-Sasha.json  reverse   \n",
       "1    0002            0002_Caselaw_Alaska_11695007-Sasha.json   affirm   \n",
       "2    0029          0029-nm_119_609-Torres v State-Sasha.json  reverse   \n",
       "3    0032  0032-nm_118_685-Baer v Regents of the Universi...    mixed   \n",
       "4    0033  0033-nm_118_385-Diaz ex rel Diaz v Feil-Sasha....    mixed   \n",
       "\n",
       "  outcome_1a_gpt4o outcome_1b_gpt4o outcome_1c_gpt4o outcome_1a_o3mini  \\\n",
       "0           affirm           affirm          reverse            affirm   \n",
       "1           affirm           affirm           affirm            affirm   \n",
       "2           affirm           affirm            mixed            affirm   \n",
       "3            mixed            mixed            mixed             mixed   \n",
       "4           affirm           affirm            mixed            affirm   \n",
       "\n",
       "  outcome_1b_o3mini outcome_1c_o3mini outcome_1a_gemini outcome_1b_gemini  \\\n",
       "0            affirm           reverse           reverse           reverse   \n",
       "1            affirm            affirm             mixed             mixed   \n",
       "2            affirm           reverse           reverse           reverse   \n",
       "3           reverse           reverse             mixed             mixed   \n",
       "4           reverse           reverse           reverse           reverse   \n",
       "\n",
       "  outcome_1c_gemini  \n",
       "0           reverse  \n",
       "1            affirm  \n",
       "2           reverse  \n",
       "3           reverse  \n",
       "4             mixed  "
      ]
     },
     "execution_count": 16,
     "metadata": {},
     "output_type": "execute_result"
    }
   ],
   "source": [
    "master_df = metadata_df.copy()\n",
    "\n",
    "# merge all the model's scores\n",
    "master_df = master_df.merge(task_1_df_gpt4o, how='inner', on='case_id')\n",
    "master_df = master_df.merge(task_1_df_o3mini, how='inner', on='case_id')\n",
    "master_df = master_df.merge(task_1_df_gemini, how='inner', on='case_id')\n",
    "\n",
    "# ensure only valid cases are included\n",
    "master_df = master_df[master_df['outcome_1a_gpt4o'].notna()].reset_index(drop=True)\n",
    "\n",
    "print(master_df.shape)\n",
    "master_df.head()"
   ]
  },
  {
   "cell_type": "markdown",
   "metadata": {},
   "source": [
    "### Helpers"
   ]
  },
  {
   "cell_type": "code",
   "execution_count": 17,
   "metadata": {},
   "outputs": [],
   "source": [
    "def score_subtask(model_suffix):\n",
    "    ci_a = compute_ci(master_df['outcome'], master_df['outcome_1a_' + model_suffix])\n",
    "    ci_b = compute_ci(master_df['outcome'], master_df['outcome_1b_' + model_suffix ])\n",
    "    ci_c = compute_ci(master_df['outcome'], master_df['outcome_1c_' + model_suffix])\n",
    "\n",
    "    mean = [ci_a[0], ci_b[0], ci_c[0], np.mean([ci_a[0], ci_b[0], ci_c[0]])]\n",
    "    lower = np.subtract(mean, [ci_a[1], ci_b[1], ci_c[1], np.mean([ci_a[1], ci_b[1], ci_c[1]])])\n",
    "    upper = np.subtract([ci_a[2], ci_b[2], ci_c[2], np.mean([ci_a[2], ci_b[2], ci_c[2]])], mean)\n",
    "    error = np.stack((lower, upper), axis=0)\n",
    "\n",
    "    return mean, error"
   ]
  },
  {
   "cell_type": "markdown",
   "metadata": {},
   "source": [
    "### `gpt-4o`, `o3-mini`, `gemini-1.5-pro`"
   ]
  },
  {
   "cell_type": "code",
   "execution_count": 18,
   "metadata": {},
   "outputs": [],
   "source": [
    "f1_mean_gpt4o, f1_error_gpt4o = score_subtask('gpt4o')\n",
    "f1_mean_o3mini, f1_error_o3mini = score_subtask('o3mini')\n",
    "f1_mean_gemini, f1_error_gemini = score_subtask('gemini')"
   ]
  },
  {
   "cell_type": "markdown",
   "metadata": {},
   "source": [
    "### Random Baseline"
   ]
  },
  {
   "cell_type": "code",
   "execution_count": 21,
   "metadata": {},
   "outputs": [],
   "source": [
    "np.random.seed(0)\n",
    "random_preds = np.random.choice(['affirm', 'reverse', 'mixed'], size=(master_df['outcome'].shape))"
   ]
  },
  {
   "cell_type": "code",
   "execution_count": 22,
   "metadata": {},
   "outputs": [],
   "source": [
    "f1_ci_random = compute_ci(master_df['outcome'], random_preds)"
   ]
  },
  {
   "cell_type": "markdown",
   "metadata": {},
   "source": [
    "### Plot"
   ]
  },
  {
   "cell_type": "code",
   "execution_count": 23,
   "metadata": {},
   "outputs": [],
   "source": [
    "f1_means = np.array([f1_mean_gpt4o, f1_mean_o3mini, f1_mean_gemini])\n",
    "f1_errors = np.array([f1_error_gpt4o, f1_error_o3mini, f1_error_gemini])\n",
    "\n",
    "labels = ['GPT-4o', 'o3-mini', 'Gemini 1.5 Pro']"
   ]
  },
  {
   "cell_type": "code",
   "execution_count": 24,
   "metadata": {},
   "outputs": [
    {
     "data": {
      "image/png": "[encoded data removed]",
      "text/plain": [
       "<Figure size 1000x400 with 1 Axes>"
      ]
     },
     "metadata": {},
     "output_type": "display_data"
    }
   ],
   "source": [
    "fig = plt.figure(figsize=(10, 4))\n",
    "# x_axis_labels = ['Facts only', '+ Precedents', '+ Application of Law to Facts']\n",
    "x_axis_labels = ['(a)', '(b)', '(c)', 'Average']\n",
    "\n",
    "for i in range(f1_means.shape[0]):\n",
    "    x_axis = [k-0.05+i*0.05 for k in range(4)]\n",
    "    plt.errorbar(x_axis, f1_means[i], yerr=f1_errors[i], fmt='o', markerfacecolor='white', capsize=2, label=f\"{labels[i]}\")\n",
    "\n",
    "plt.axhline(f1_ci_random[0], linestyle='dashed', label='random')\n",
    "\n",
    "\n",
    "xticks = range(4)\n",
    "\n",
    "plt.axvline(2.5, linestyle='solid', c='black')\n",
    "plt.ylim([0, 1.0])\n",
    "plt.xlabel(\"Subtask\")\n",
    "plt.yticks(np.linspace(0, 1, 11))\n",
    "plt.grid(axis='y', which='major')\n",
    "plt.xticks(xticks, labels=x_axis_labels)\n",
    "# ax.text(0.0, 1.04, f\"$({string.ascii_lowercase[i]})$\", transform=ax.transAxes, size=20, weight='normal')\n",
    "\n",
    "# axes[0].ylabel(\"Accuracy\")\n",
    "plt.ylabel(\"Class Weighted-F1 Score\")\n",
    "# plt.suptitle(\"Task #1: Accuarcy & F1 Score\")\n",
    "plt.legend(loc='upper right')\n",
    "\n",
    "\n",
    "# plt.savefig(\"../figures/task_1_final.png\", dpi=300, bbox_inches='tight')\n",
    "plt.show()"
   ]
  },
  {
   "cell_type": "code",
   "execution_count": null,
   "metadata": {},
   "outputs": [],
   "source": []
  }
 ],
 "metadata": {
  "kernelspec": {
   "display_name": "law",
   "language": "python",
   "name": "python3"
  },
  "language_info": {
   "codemirror_mode": {
    "name": "ipython",
    "version": 3
   },
   "file_extension": ".py",
   "mimetype": "text/x-python",
   "name": "python",
   "nbconvert_exporter": "python",
   "pygments_lexer": "ipython3",
   "version": "3.12.4"
  }
 },
 "nbformat": 4,
 "nbformat_minor": 2
}
