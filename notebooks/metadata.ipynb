{
 "cells": [
  {
   "cell_type": "code",
   "execution_count": 2,
   "metadata": {},
   "outputs": [],
   "source": [
    "import numpy as np\n",
    "import pandas as pd\n",
    "import os\n",
    "import json\n",
    "from tqdm.notebook import tqdm\n",
    "import tiktoken"
   ]
  },
  {
   "cell_type": "code",
   "execution_count": null,
   "metadata": {},
   "outputs": [
    {
     "data": {
      "text/plain": [
       "471"
      ]
     },
     "execution_count": 3,
     "metadata": {},
     "output_type": "execute_result"
    }
   ],
   "source": [
    "root = \"../data/cases_json/\"\n",
    "\n",
    "n_cases = len(os.listdir(root))\n",
    "n_cases"
   ]
  },
  {
   "cell_type": "code",
   "execution_count": 4,
   "metadata": {},
   "outputs": [],
   "source": [
    "case_ids = np.zeros((n_cases), dtype='object')\n",
    "file_names = np.zeros((n_cases), dtype='object')\n",
    "outcomes = np.zeros((n_cases), dtype='object')"
   ]
  },
  {
   "cell_type": "code",
   "execution_count": 5,
   "metadata": {},
   "outputs": [
    {
     "data": {
      "application/vnd.jupyter.widget-view+json": {
       "model_id": "48fe7d6c8aa1404faea3d167826c76f6",
       "version_major": 2,
       "version_minor": 0
      },
      "text/plain": [
       "  0%|          | 0/471 [00:00<?, ?it/s]"
      ]
     },
     "metadata": {},
     "output_type": "display_data"
    }
   ],
   "source": [
    "for i, file_name in enumerate(tqdm(sorted(os.listdir(root)))):\n",
    "    case_ids[i] = file_name[:4]\n",
    "    file_names[i] = file_name\n",
    "    \n",
    "    case_file_path = root + file_name\n",
    "    with open(case_file_path, encoding='utf-8') as f:\n",
    "        case_file = json.load(f)\n",
    "    \n",
    "    outcomes[i] = case_file['class']"
   ]
  },
  {
   "cell_type": "code",
   "execution_count": 6,
   "metadata": {},
   "outputs": [
    {
     "data": {
      "text/html": [
       "<div>\n",
       "<style scoped>\n",
       "    .dataframe tbody tr th:only-of-type {\n",
       "        vertical-align: middle;\n",
       "    }\n",
       "\n",
       "    .dataframe tbody tr th {\n",
       "        vertical-align: top;\n",
       "    }\n",
       "\n",
       "    .dataframe thead th {\n",
       "        text-align: right;\n",
       "    }\n",
       "</style>\n",
       "<table border=\"1\" class=\"dataframe\">\n",
       "  <thead>\n",
       "    <tr style=\"text-align: right;\">\n",
       "      <th></th>\n",
       "      <th>case_id</th>\n",
       "      <th>file_name</th>\n",
       "      <th>outcome</th>\n",
       "    </tr>\n",
       "  </thead>\n",
       "  <tbody>\n",
       "    <tr>\n",
       "      <th>0</th>\n",
       "      <td>0001</td>\n",
       "      <td>0001_Caselaw_AZ_1490855-Sasha.json</td>\n",
       "      <td>reverse</td>\n",
       "    </tr>\n",
       "    <tr>\n",
       "      <th>1</th>\n",
       "      <td>0002</td>\n",
       "      <td>0002_Caselaw_Alaska_11695007-Sasha.json</td>\n",
       "      <td>affirm</td>\n",
       "    </tr>\n",
       "    <tr>\n",
       "      <th>2</th>\n",
       "      <td>0029</td>\n",
       "      <td>0029-nm_119_609-Torres v State-Sasha.json</td>\n",
       "      <td>reverse</td>\n",
       "    </tr>\n",
       "    <tr>\n",
       "      <th>3</th>\n",
       "      <td>0032</td>\n",
       "      <td>0032-nm_118_685-Baer v Regents of the Universi...</td>\n",
       "      <td>mixed</td>\n",
       "    </tr>\n",
       "    <tr>\n",
       "      <th>4</th>\n",
       "      <td>0033</td>\n",
       "      <td>0033-nm_118_385-Diaz ex rel Diaz v Feil-Sasha....</td>\n",
       "      <td>mixed</td>\n",
       "    </tr>\n",
       "  </tbody>\n",
       "</table>\n",
       "</div>"
      ],
      "text/plain": [
       "  case_id                                          file_name  outcome\n",
       "0    0001                 0001_Caselaw_AZ_1490855-Sasha.json  reverse\n",
       "1    0002            0002_Caselaw_Alaska_11695007-Sasha.json   affirm\n",
       "2    0029          0029-nm_119_609-Torres v State-Sasha.json  reverse\n",
       "3    0032  0032-nm_118_685-Baer v Regents of the Universi...    mixed\n",
       "4    0033  0033-nm_118_385-Diaz ex rel Diaz v Feil-Sasha....    mixed"
      ]
     },
     "execution_count": 6,
     "metadata": {},
     "output_type": "execute_result"
    }
   ],
   "source": [
    "metadata_df = pd.DataFrame({'case_id': case_ids,\n",
    "                            'file_name': file_names,\n",
    "                            'outcome': outcomes})\n",
    "metadata_df.head()"
   ]
  },
  {
   "cell_type": "code",
   "execution_count": 7,
   "metadata": {},
   "outputs": [],
   "source": [
    "metadata_df.to_csv(\"../data/csvs/metadata.csv\", index=False)"
   ]
  },
  {
   "cell_type": "code",
   "execution_count": 8,
   "metadata": {},
   "outputs": [
    {
     "data": {
      "application/vnd.jupyter.widget-view+json": {
       "model_id": "bbbceab335384b70a4905939ba382ef7",
       "version_major": 2,
       "version_minor": 0
      },
      "text/plain": [
       "  0%|          | 0/471 [00:00<?, ?it/s]"
      ]
     },
     "metadata": {},
     "output_type": "display_data"
    },
    {
     "data": {
      "text/html": [
       "<div>\n",
       "<style scoped>\n",
       "    .dataframe tbody tr th:only-of-type {\n",
       "        vertical-align: middle;\n",
       "    }\n",
       "\n",
       "    .dataframe tbody tr th {\n",
       "        vertical-align: top;\n",
       "    }\n",
       "\n",
       "    .dataframe thead th {\n",
       "        text-align: right;\n",
       "    }\n",
       "</style>\n",
       "<table border=\"1\" class=\"dataframe\">\n",
       "  <thead>\n",
       "    <tr style=\"text-align: right;\">\n",
       "      <th></th>\n",
       "      <th>text</th>\n",
       "      <th>facts</th>\n",
       "      <th>procedural_history</th>\n",
       "      <th>relevant_precedents</th>\n",
       "      <th>application_of_law_to_facts</th>\n",
       "      <th>outcome</th>\n",
       "    </tr>\n",
       "  </thead>\n",
       "  <tbody>\n",
       "    <tr>\n",
       "      <th>count</th>\n",
       "      <td>471.000000</td>\n",
       "      <td>471.000000</td>\n",
       "      <td>471.000000</td>\n",
       "      <td>471.000000</td>\n",
       "      <td>471.000000</td>\n",
       "      <td>471.000000</td>\n",
       "    </tr>\n",
       "    <tr>\n",
       "      <th>mean</th>\n",
       "      <td>5035.373673</td>\n",
       "      <td>620.148620</td>\n",
       "      <td>134.138004</td>\n",
       "      <td>164.280255</td>\n",
       "      <td>340.254777</td>\n",
       "      <td>29.968153</td>\n",
       "    </tr>\n",
       "    <tr>\n",
       "      <th>std</th>\n",
       "      <td>3104.940872</td>\n",
       "      <td>603.597346</td>\n",
       "      <td>125.452305</td>\n",
       "      <td>229.445785</td>\n",
       "      <td>235.630288</td>\n",
       "      <td>31.904129</td>\n",
       "    </tr>\n",
       "    <tr>\n",
       "      <th>min</th>\n",
       "      <td>802.000000</td>\n",
       "      <td>0.000000</td>\n",
       "      <td>0.000000</td>\n",
       "      <td>0.000000</td>\n",
       "      <td>20.000000</td>\n",
       "      <td>0.000000</td>\n",
       "    </tr>\n",
       "    <tr>\n",
       "      <th>25%</th>\n",
       "      <td>2935.000000</td>\n",
       "      <td>274.000000</td>\n",
       "      <td>41.500000</td>\n",
       "      <td>29.500000</td>\n",
       "      <td>175.500000</td>\n",
       "      <td>10.000000</td>\n",
       "    </tr>\n",
       "    <tr>\n",
       "      <th>50%</th>\n",
       "      <td>4433.000000</td>\n",
       "      <td>461.000000</td>\n",
       "      <td>102.000000</td>\n",
       "      <td>83.000000</td>\n",
       "      <td>281.000000</td>\n",
       "      <td>21.000000</td>\n",
       "    </tr>\n",
       "    <tr>\n",
       "      <th>75%</th>\n",
       "      <td>6318.000000</td>\n",
       "      <td>743.000000</td>\n",
       "      <td>193.000000</td>\n",
       "      <td>208.000000</td>\n",
       "      <td>438.000000</td>\n",
       "      <td>37.000000</td>\n",
       "    </tr>\n",
       "    <tr>\n",
       "      <th>max</th>\n",
       "      <td>23125.000000</td>\n",
       "      <td>5150.000000</td>\n",
       "      <td>761.000000</td>\n",
       "      <td>2057.000000</td>\n",
       "      <td>1726.000000</td>\n",
       "      <td>242.000000</td>\n",
       "    </tr>\n",
       "  </tbody>\n",
       "</table>\n",
       "</div>"
      ],
      "text/plain": [
       "               text        facts  procedural_history  relevant_precedents  \\\n",
       "count    471.000000   471.000000          471.000000           471.000000   \n",
       "mean    5035.373673   620.148620          134.138004           164.280255   \n",
       "std     3104.940872   603.597346          125.452305           229.445785   \n",
       "min      802.000000     0.000000            0.000000             0.000000   \n",
       "25%     2935.000000   274.000000           41.500000            29.500000   \n",
       "50%     4433.000000   461.000000          102.000000            83.000000   \n",
       "75%     6318.000000   743.000000          193.000000           208.000000   \n",
       "max    23125.000000  5150.000000          761.000000          2057.000000   \n",
       "\n",
       "       application_of_law_to_facts     outcome  \n",
       "count                   471.000000  471.000000  \n",
       "mean                    340.254777   29.968153  \n",
       "std                     235.630288   31.904129  \n",
       "min                      20.000000    0.000000  \n",
       "25%                     175.500000   10.000000  \n",
       "50%                     281.000000   21.000000  \n",
       "75%                     438.000000   37.000000  \n",
       "max                    1726.000000  242.000000  "
      ]
     },
     "execution_count": 8,
     "metadata": {},
     "output_type": "execute_result"
    }
   ],
   "source": [
    "### Case Lengths\n",
    "encoding = tiktoken.encoding_for_model('gpt-4o')\n",
    "token_lengths = np.zeros((n_cases, 6))\n",
    "for i in tqdm(range(n_cases)):\n",
    "    file_path = root + metadata_df['file_name'][i]\n",
    "    with open(file_path, encoding='utf-8') as f:\n",
    "        case_file = json.load(f)\n",
    "\n",
    "    token_lengths[i, 0] = len(encoding.encode(case_file['text']))\n",
    "    token_lengths[i, 1] = len(encoding.encode(\" \".join(case_file['annotations']['Facts'])))\n",
    "    token_lengths[i, 3] = len(encoding.encode(\" \".join(case_file['annotations']['Relevant Precedents'])))\n",
    "    token_lengths[i, 2] = len(encoding.encode(\" \".join(case_file['annotations']['Procedural History'])))\n",
    "    token_lengths[i, 4] = len(encoding.encode(\" \".join(case_file['annotations']['Application of Law to Facts'])))\n",
    "    token_lengths[i, 5] = len(encoding.encode(\" \".join(case_file['annotations']['Outcome'])))\n",
    "token_lengths_df = pd.DataFrame(token_lengths, index=metadata_df['file_name'], columns=['text', 'facts', 'procedural_history', 'relevant_precedents', 'application_of_law_to_facts', 'outcome'])\n",
    "token_lengths_df.head()\n",
    "token_lengths_df.describe()\n",
    "# token_lengths_df.reset_index().to_csv(\"../data/token_lengths.csv\", index=False)"
   ]
  },
  {
   "cell_type": "code",
   "execution_count": null,
   "metadata": {},
   "outputs": [],
   "source": []
  }
 ],
 "metadata": {
  "kernelspec": {
   "display_name": "law",
   "language": "python",
   "name": "python3"
  },
  "language_info": {
   "codemirror_mode": {
    "name": "ipython",
    "version": 3
   },
   "file_extension": ".py",
   "mimetype": "text/x-python",
   "name": "python",
   "nbconvert_exporter": "python",
   "pygments_lexer": "ipython3",
   "version": "3.12.4"
  }
 },
 "nbformat": 4,
 "nbformat_minor": 2
}
