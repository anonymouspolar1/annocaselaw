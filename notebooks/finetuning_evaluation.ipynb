{
 "cells": [
  {
   "cell_type": "code",
   "execution_count": null,
   "metadata": {},
   "outputs": [],
   "source": [
    "import os\n",
    "import numpy as np\n",
    "import matplotlib.pyplot as plt\n",
    "\n",
    "from src.api_helpers import annotate_openai, clear_openai_cache\n",
    "from openai import OpenAI"
   ]
  },
  {
   "cell_type": "code",
   "execution_count": null,
   "metadata": {},
   "outputs": [],
   "source": [
    "data_id = \"25.11.24_10cases\"\n",
    "n_test = 10\n",
    "\n",
    "gt_paths = np.load(f\"../data/finetuning/{data_id}/test.npy\").tolist()\n",
    "cf_paths = [i.replace(\"json\", \"txt\") for i in gt_paths]"
   ]
  },
  {
   "cell_type": "code",
   "execution_count": null,
   "metadata": {},
   "outputs": [
    {
     "name": "stdout",
     "output_type": "stream",
     "text": [
      "Case: 0\n",
      "Case: 1\n",
      "Case: 2\n",
      "Case: 3\n",
      "Case: 4\n",
      "Case: 5\n",
      "Case: 6\n",
      "Case: 7\n",
      "Case: 8\n",
      "Case: 9\n"
     ]
    }
   ],
   "source": [
    "score_4omini = np.zeros((n_test, 5, 3))\n",
    "for i, cf_path in enumerate(cf_paths):\n",
    "    print(f\"Case: {i}\")\n",
    "    preds, score = annotate_openai(cf_path, model='gpt-4o-mini-2024-07-18')\n",
    "    score_4omini[i] = score"
   ]
  },
  {
   "cell_type": "code",
   "execution_count": 20,
   "metadata": {},
   "outputs": [],
   "source": [
    "client = OpenAI(api_key=os.getenv(\"OPENAI_API_KEY\"))"
   ]
  },
  {
   "cell_type": "code",
   "execution_count": 21,
   "metadata": {},
   "outputs": [],
   "source": [
    "ft_10cases_old = client.fine_tuning.jobs.retrieve(\"ftjob-MPAzFIA7MYTt2PItQVsUKgGu\").fine_tuned_model"
   ]
  },
  {
   "cell_type": "code",
   "execution_count": null,
   "metadata": {},
   "outputs": [
    {
     "name": "stdout",
     "output_type": "stream",
     "text": [
      "Cache Clear\n",
      "Case: 0\n",
      "Case: 1\n",
      "Case: 2\n",
      "Case: 3\n",
      "\n",
      "Attempt 1 failed: 'Relevant Precedents'\n",
      "Case: 4\n",
      "Case: 5\n",
      "Case: 6\n",
      "Case: 7\n",
      "Case: 8\n",
      "Case: 9\n"
     ]
    }
   ],
   "source": [
    "clear_openai_cache()\n",
    "score_ft_10cases_old = np.zeros((n_test, 5, 3))\n",
    "for i, cf_path in enumerate(cf_paths):\n",
    "    print(f\"Case: {i}\")\n",
    "    preds, score = annotate_openai(cf_path, model=ft_10cases_old)\n",
    "    score_ft_10cases_old[i] = score"
   ]
  },
  {
   "cell_type": "code",
   "execution_count": 22,
   "metadata": {},
   "outputs": [],
   "source": [
    "ft_50cases = client.fine_tuning.jobs.retrieve(\"ftjob-3GvZY4fjcMbPwEcZE6Zp6Co6\").fine_tuned_model"
   ]
  },
  {
   "cell_type": "code",
   "execution_count": 23,
   "metadata": {},
   "outputs": [
    {
     "data": {
      "text/plain": [
       "1890585"
      ]
     },
     "execution_count": 23,
     "metadata": {},
     "output_type": "execute_result"
    }
   ],
   "source": [
    "client.fine_tuning.jobs.retrieve(\"ftjob-3GvZY4fjcMbPwEcZE6Zp6Co6\").trained_tokens"
   ]
  },
  {
   "cell_type": "code",
   "execution_count": 33,
   "metadata": {},
   "outputs": [
    {
     "name": "stdout",
     "output_type": "stream",
     "text": [
      "Cache Clear\n",
      "Case: 0\n",
      "Case: 1\n",
      "Case: 2\n",
      "Case: 3\n",
      "Case: 4\n",
      "Case: 5\n",
      "Case: 6\n",
      "Case: 7\n",
      "Case: 8\n",
      "Case: 9\n"
     ]
    }
   ],
   "source": [
    "clear_openai_cache()\n",
    "score_ft_50cases = np.zeros((n_test, 5, 3))\n",
    "for i, cf_path in enumerate(cf_paths):\n",
    "    print(f\"Case: {i}\")\n",
    "    preds, score = annotate_openai(cf_path, model=ft_50cases)\n",
    "    score_ft_50cases[i] = score"
   ]
  },
  {
   "cell_type": "code",
   "execution_count": 21,
   "metadata": {},
   "outputs": [],
   "source": [
    "ft_100cases = client.fine_tuning.jobs.retrieve(\"ftjob-eboXhRujBQFOLpe4ImYLrzNH\").fine_tuned_model"
   ]
  },
  {
   "cell_type": "code",
   "execution_count": 52,
   "metadata": {},
   "outputs": [
    {
     "name": "stdout",
     "output_type": "stream",
     "text": [
      "Cache Clear\n",
      "Case: 0\n",
      "Case: 1\n",
      "Case: 2\n",
      "Case: 3\n",
      "Case: 4\n",
      "Case: 5\n",
      "Case: 6\n",
      "Case: 7\n",
      "Case: 8\n",
      "Case: 9\n"
     ]
    }
   ],
   "source": [
    "clear_openai_cache()\n",
    "score_ft_100cases = np.zeros((n_test, 5, 3))\n",
    "for i, cf_path in enumerate(cf_paths):\n",
    "    print(f\"Case: {i}\")\n",
    "    preds, score = annotate_openai(cf_path, model=ft_100cases)\n",
    "    score_ft_100cases[i] = score"
   ]
  },
  {
   "cell_type": "code",
   "execution_count": 41,
   "metadata": {},
   "outputs": [
    {
     "name": "stdout",
     "output_type": "stream",
     "text": [
      "Case: 0\n",
      "Case: 1\n",
      "Case: 2\n",
      "Case: 3\n",
      "Case: 4\n",
      "Case: 5\n",
      "Case: 6\n",
      "Case: 7\n",
      "Case: 8\n",
      "Case: 9\n"
     ]
    }
   ],
   "source": [
    "score_4o = np.zeros((n_test, 5, 3))\n",
    "for i, cf_path in enumerate(cf_paths):\n",
    "    print(f\"Case: {i}\")\n",
    "    preds, score = annotate_openai(cf_path, model='gpt-4o-2024-08-06')\n",
    "    score_4o[i] = score"
   ]
  },
  {
   "cell_type": "code",
   "execution_count": null,
   "metadata": {},
   "outputs": [],
   "source": [
    "scores = np.array([score_4o, score_4omini, score_ft_10cases_old, score_ft_50cases])"
   ]
  },
  {
   "cell_type": "code",
   "execution_count": 58,
   "metadata": {},
   "outputs": [],
   "source": [
    "np.save(\"../data/results/finetuning_on_gpt-4o-mini_new_results.npy\", scores)"
   ]
  },
  {
   "cell_type": "code",
   "execution_count": null,
   "metadata": {},
   "outputs": [],
   "source": [
    "scores = np.load(\"../data/results/finetuning_on_gpt-4o-mini_new_results.npy\")"
   ]
  },
  {
   "cell_type": "code",
   "execution_count": 25,
   "metadata": {},
   "outputs": [
    {
     "data": {
      "text/plain": [
       "(4, 10, 5, 3)"
      ]
     },
     "execution_count": 25,
     "metadata": {},
     "output_type": "execute_result"
    }
   ],
   "source": [
    "scores.shape"
   ]
  },
  {
   "cell_type": "code",
   "execution_count": null,
   "metadata": {},
   "outputs": [
    {
     "data": {
      "image/png": "[encoded data removed]",
      "text/plain": [
       "<Figure size 1200x400 with 1 Axes>"
      ]
     },
     "metadata": {},
     "output_type": "display_data"
    }
   ],
   "source": [
    "x_axis_labels = ['Facts', 'Procedural History', 'Application of Law to Facts', 'Relevant Precedents', 'Outcome']\n",
    "labels = ['GPT-4o', 'GPT-4o-mini', 'GPT-4o-mini FT: 10 cases', 'GPT-4o-mini FT: 50 cases']\n",
    "fig = plt.figure(figsize=(12, 4))\n",
    "\n",
    "for i in range(scores.shape[0]):\n",
    "    f1_mean = np.mean(scores[i, :, :, 2], axis=(0))\n",
    "    f1_std = np.std(scores[i, :, :, 2], axis=(0), ddof=1) / np.sqrt(n_test)\n",
    "    x_axis = [k-0.1+i*0.05 for k in range(5)] \n",
    "    plt.errorbar(x_axis, f1_mean, yerr=f1_std, fmt='o', markerfacecolor='white', capsize=2, label=f\"{labels[i]}\")\n",
    "\n",
    "plt.axhline(1, color='black', linestyle='dashed')\n",
    "xticks = np.arange(0, 5)\n",
    "fig.axes[0].set_xticks(x_axis, labels=x_axis_labels)\n",
    "\n",
    "plt.ylabel(\"F1 score\")\n",
    "plt.ylim([0, 1.1])\n",
    "# plt.title(f\"Testing Finetuning: ({n_test} cases each)\")\n",
    "plt.legend(loc='best')\n",
    "# plt.savefig(\"../figures/finetuning_on_gpt-4o-mini_new_results.png\", bbox_inches='tight', dpi=300)\n",
    "plt.show()"
   ]
  },
  {
   "cell_type": "code",
   "execution_count": 30,
   "metadata": {},
   "outputs": [
    {
     "data": {
      "text/plain": [
       "(4, 10, 5, 3)"
      ]
     },
     "execution_count": 30,
     "metadata": {},
     "output_type": "execute_result"
    }
   ],
   "source": [
    "scores.shape"
   ]
  },
  {
   "cell_type": "code",
   "execution_count": 36,
   "metadata": {},
   "outputs": [],
   "source": [
    "gpt_4o_mini_base_mean = np.mean(scores[1, :, :, 2], axis=(0, 1))\n",
    "gpt_4o_mini_base_std = np.std(scores[1, :, :, 2], axis=(0,1), ddof=1) / np.sqrt(n_test * 5)"
   ]
  },
  {
   "cell_type": "code",
   "execution_count": 37,
   "metadata": {},
   "outputs": [],
   "source": [
    "gpt_4o_mini_ft50_mean = np.mean(scores[3, :, :, 2], axis=(0, 1))\n",
    "gpt_4o_mini_ft50_std = np.std(scores[3, :, :, 2], axis=(0,1), ddof=1) / np.sqrt(n_test * 5)"
   ]
  },
  {
   "cell_type": "code",
   "execution_count": 38,
   "metadata": {},
   "outputs": [],
   "source": [
    "gpt_4o_base_mean = np.mean(scores[0, :, :, 2], axis=(0, 1))\n",
    "gpt_4o_base_std = np.std(scores[0, :, :, 2], axis=(0,1), ddof=1) / np.sqrt(n_test * 5)"
   ]
  },
  {
   "cell_type": "code",
   "execution_count": 39,
   "metadata": {},
   "outputs": [
    {
     "name": "stdout",
     "output_type": "stream",
     "text": [
      "gpt_4o_mini_base: 0.29 (0.034)\n",
      "gpt_4o_mini_ft50: 0.52 (0.041)\n",
      "gpt_4o_base: 0.38 (0.035)\n"
     ]
    }
   ],
   "source": [
    "print(f\"gpt_4o_mini_base: {gpt_4o_mini_base_mean:.2f} ({gpt_4o_mini_base_std:.3f})\")\n",
    "print(f\"gpt_4o_mini_ft50: {gpt_4o_mini_ft50_mean:.2f} ({gpt_4o_mini_ft50_std:.3f})\")\n",
    "print(f\"gpt_4o_base: {gpt_4o_base_mean:.2f} ({gpt_4o_base_std:.3f})\")"
   ]
  },
  {
   "cell_type": "code",
   "execution_count": null,
   "metadata": {},
   "outputs": [],
   "source": []
  }
 ],
 "metadata": {
  "kernelspec": {
   "display_name": "law",
   "language": "python",
   "name": "python3"
  },
  "language_info": {
   "codemirror_mode": {
    "name": "ipython",
    "version": 3
   },
   "file_extension": ".py",
   "mimetype": "text/x-python",
   "name": "python",
   "nbconvert_exporter": "python",
   "pygments_lexer": "ipython3",
   "version": "3.12.4"
  }
 },
 "nbformat": 4,
 "nbformat_minor": 2
}
